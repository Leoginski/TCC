{
 "cells": [
  {
   "cell_type": "code",
   "execution_count": 16,
   "metadata": {
    "collapsed": true
   },
   "outputs": [],
   "source": [
    "import pandas as pd"
   ]
  },
  {
   "cell_type": "code",
   "execution_count": 48,
   "metadata": {},
   "outputs": [
    {
     "data": {
      "text/html": [
       "<div>\n",
       "<style>\n",
       "    .dataframe thead tr:only-child th {\n",
       "        text-align: right;\n",
       "    }\n",
       "\n",
       "    .dataframe thead th {\n",
       "        text-align: left;\n",
       "    }\n",
       "\n",
       "    .dataframe tbody tr th {\n",
       "        vertical-align: top;\n",
       "    }\n",
       "</style>\n",
       "<table border=\"1\" class=\"dataframe\">\n",
       "  <thead>\n",
       "    <tr style=\"text-align: right;\">\n",
       "      <th></th>\n",
       "      <th>Código Órgão</th>\n",
       "      <th>Nome Órgão</th>\n",
       "      <th>Código UG</th>\n",
       "      <th>Nome UG</th>\n",
       "      <th>Número Licitação</th>\n",
       "      <th>Código Item Compra</th>\n",
       "      <th>Descrição Item Compra</th>\n",
       "      <th>CNPJ Participante</th>\n",
       "      <th>Nome Participante</th>\n",
       "      <th>Flag Vencedor</th>\n",
       "    </tr>\n",
       "  </thead>\n",
       "  <tbody>\n",
       "    <tr>\n",
       "      <th>0</th>\n",
       "      <td>26418</td>\n",
       "      <td>INST.FED.DE EDUC.,CIENC.E TEC.DE PERNAMBUCO</td>\n",
       "      <td>151911</td>\n",
       "      <td>IFPE - CAMPUS AFOGADOS DA INGAZEIRA</td>\n",
       "      <td>12016</td>\n",
       "      <td>1519110500001200000000</td>\n",
       "      <td>PRESTACAO DE SERVICO DE LIMPEZA E CONSERVACAO ...</td>\n",
       "      <td>8398304000160</td>\n",
       "      <td>PARA SERVICOS CONSTRUCAO &amp; MAO DE OBRA LTDA</td>\n",
       "      <td>NÃO</td>\n",
       "    </tr>\n",
       "    <tr>\n",
       "      <th>1</th>\n",
       "      <td>26418</td>\n",
       "      <td>INST.FED.DE EDUC.,CIENC.E TEC.DE PERNAMBUCO</td>\n",
       "      <td>151911</td>\n",
       "      <td>IFPE - CAMPUS AFOGADOS DA INGAZEIRA</td>\n",
       "      <td>12016</td>\n",
       "      <td>1519110500001200000000</td>\n",
       "      <td>PRESTACAO DE SERVICO DE LIMPEZA E CONSERVACAO ...</td>\n",
       "      <td>323090000151</td>\n",
       "      <td>SOLL -SERVICOS OBRAS E LOCACOES LTDA</td>\n",
       "      <td>NÃO</td>\n",
       "    </tr>\n",
       "    <tr>\n",
       "      <th>2</th>\n",
       "      <td>26418</td>\n",
       "      <td>INST.FED.DE EDUC.,CIENC.E TEC.DE PERNAMBUCO</td>\n",
       "      <td>151911</td>\n",
       "      <td>IFPE - CAMPUS AFOGADOS DA INGAZEIRA</td>\n",
       "      <td>12016</td>\n",
       "      <td>1519110500001200000000</td>\n",
       "      <td>PRESTACAO DE SERVICO DE LIMPEZA E CONSERVACAO ...</td>\n",
       "      <td>9019150000111</td>\n",
       "      <td>ATITUDE TERCEIRIZCAO DE MAO DE OBRA EIRELI</td>\n",
       "      <td>NÃO</td>\n",
       "    </tr>\n",
       "    <tr>\n",
       "      <th>3</th>\n",
       "      <td>26418</td>\n",
       "      <td>INST.FED.DE EDUC.,CIENC.E TEC.DE PERNAMBUCO</td>\n",
       "      <td>151911</td>\n",
       "      <td>IFPE - CAMPUS AFOGADOS DA INGAZEIRA</td>\n",
       "      <td>12016</td>\n",
       "      <td>1519110500001200000000</td>\n",
       "      <td>PRESTACAO DE SERVICO DE LIMPEZA E CONSERVACAO ...</td>\n",
       "      <td>13146946000102</td>\n",
       "      <td>PP LIMPEZA E CONSERVACAO LTDA</td>\n",
       "      <td>NÃO</td>\n",
       "    </tr>\n",
       "    <tr>\n",
       "      <th>4</th>\n",
       "      <td>26418</td>\n",
       "      <td>INST.FED.DE EDUC.,CIENC.E TEC.DE PERNAMBUCO</td>\n",
       "      <td>151911</td>\n",
       "      <td>IFPE - CAMPUS AFOGADOS DA INGAZEIRA</td>\n",
       "      <td>12016</td>\n",
       "      <td>1519110500001200000000</td>\n",
       "      <td>PRESTACAO DE SERVICO DE LIMPEZA E CONSERVACAO ...</td>\n",
       "      <td>3325436000149</td>\n",
       "      <td>MARANATA PRESTADORA DE SERVICOS E CONSTRUCOES ...</td>\n",
       "      <td>NÃO</td>\n",
       "    </tr>\n",
       "  </tbody>\n",
       "</table>\n",
       "</div>"
      ],
      "text/plain": [
       "   Código Órgão                                   Nome Órgão  Código UG  \\\n",
       "0         26418  INST.FED.DE EDUC.,CIENC.E TEC.DE PERNAMBUCO     151911   \n",
       "1         26418  INST.FED.DE EDUC.,CIENC.E TEC.DE PERNAMBUCO     151911   \n",
       "2         26418  INST.FED.DE EDUC.,CIENC.E TEC.DE PERNAMBUCO     151911   \n",
       "3         26418  INST.FED.DE EDUC.,CIENC.E TEC.DE PERNAMBUCO     151911   \n",
       "4         26418  INST.FED.DE EDUC.,CIENC.E TEC.DE PERNAMBUCO     151911   \n",
       "\n",
       "                               Nome UG  Número Licitação  \\\n",
       "0  IFPE - CAMPUS AFOGADOS DA INGAZEIRA             12016   \n",
       "1  IFPE - CAMPUS AFOGADOS DA INGAZEIRA             12016   \n",
       "2  IFPE - CAMPUS AFOGADOS DA INGAZEIRA             12016   \n",
       "3  IFPE - CAMPUS AFOGADOS DA INGAZEIRA             12016   \n",
       "4  IFPE - CAMPUS AFOGADOS DA INGAZEIRA             12016   \n",
       "\n",
       "       Código Item Compra                              Descrição Item Compra  \\\n",
       "0  1519110500001200000000  PRESTACAO DE SERVICO DE LIMPEZA E CONSERVACAO ...   \n",
       "1  1519110500001200000000  PRESTACAO DE SERVICO DE LIMPEZA E CONSERVACAO ...   \n",
       "2  1519110500001200000000  PRESTACAO DE SERVICO DE LIMPEZA E CONSERVACAO ...   \n",
       "3  1519110500001200000000  PRESTACAO DE SERVICO DE LIMPEZA E CONSERVACAO ...   \n",
       "4  1519110500001200000000  PRESTACAO DE SERVICO DE LIMPEZA E CONSERVACAO ...   \n",
       "\n",
       "  CNPJ Participante                                  Nome Participante  \\\n",
       "0     8398304000160        PARA SERVICOS CONSTRUCAO & MAO DE OBRA LTDA   \n",
       "1      323090000151               SOLL -SERVICOS OBRAS E LOCACOES LTDA   \n",
       "2     9019150000111         ATITUDE TERCEIRIZCAO DE MAO DE OBRA EIRELI   \n",
       "3    13146946000102                      PP LIMPEZA E CONSERVACAO LTDA   \n",
       "4     3325436000149  MARANATA PRESTADORA DE SERVICOS E CONSTRUCOES ...   \n",
       "\n",
       "  Flag Vencedor  \n",
       "0           NÃO  \n",
       "1           NÃO  \n",
       "2           NÃO  \n",
       "3           NÃO  \n",
       "4           NÃO  "
      ]
     },
     "execution_count": 48,
     "metadata": {},
     "output_type": "execute_result"
    }
   ],
   "source": [
    "data = pd.read_csv(\"201801_ParticipantesLicitacao.csv\", sep=\";\", encoding=\"latin-1\", low_memory=False)\n",
    "data.head()"
   ]
  },
  {
   "cell_type": "code",
   "execution_count": 49,
   "metadata": {},
   "outputs": [],
   "source": [
    "#from sqlalchemy import create_engine\n",
    "#engine = create_engine(\"mysql://root:@localhost:3306/association\")\n",
    "#con = engine.connect()\n",
    "#data.to_sql('licitacoes', con=con, if_exists='append', index=False)"
   ]
  },
  {
   "cell_type": "code",
   "execution_count": 50,
   "metadata": {},
   "outputs": [],
   "source": [
    "data.drop([\"Nome Órgão\", \"Código Órgão\", \"Código UG\", \"Nome UG\", \"Descrição Item Compra\", \"Nome Participante\"], axis=1, inplace=True)"
   ]
  },
  {
   "cell_type": "code",
   "execution_count": 51,
   "metadata": {},
   "outputs": [
    {
     "data": {
      "text/html": [
       "<div>\n",
       "<style>\n",
       "    .dataframe thead tr:only-child th {\n",
       "        text-align: right;\n",
       "    }\n",
       "\n",
       "    .dataframe thead th {\n",
       "        text-align: left;\n",
       "    }\n",
       "\n",
       "    .dataframe tbody tr th {\n",
       "        vertical-align: top;\n",
       "    }\n",
       "</style>\n",
       "<table border=\"1\" class=\"dataframe\">\n",
       "  <thead>\n",
       "    <tr style=\"text-align: right;\">\n",
       "      <th></th>\n",
       "      <th>Número Licitação</th>\n",
       "      <th>Código Item Compra</th>\n",
       "      <th>CNPJ Participante</th>\n",
       "      <th>Flag Vencedor</th>\n",
       "    </tr>\n",
       "  </thead>\n",
       "  <tbody>\n",
       "    <tr>\n",
       "      <th>0</th>\n",
       "      <td>12016</td>\n",
       "      <td>1519110500001200000000</td>\n",
       "      <td>8398304000160</td>\n",
       "      <td>NÃO</td>\n",
       "    </tr>\n",
       "    <tr>\n",
       "      <th>1</th>\n",
       "      <td>12016</td>\n",
       "      <td>1519110500001200000000</td>\n",
       "      <td>323090000151</td>\n",
       "      <td>NÃO</td>\n",
       "    </tr>\n",
       "    <tr>\n",
       "      <th>2</th>\n",
       "      <td>12016</td>\n",
       "      <td>1519110500001200000000</td>\n",
       "      <td>9019150000111</td>\n",
       "      <td>NÃO</td>\n",
       "    </tr>\n",
       "    <tr>\n",
       "      <th>3</th>\n",
       "      <td>12016</td>\n",
       "      <td>1519110500001200000000</td>\n",
       "      <td>13146946000102</td>\n",
       "      <td>NÃO</td>\n",
       "    </tr>\n",
       "    <tr>\n",
       "      <th>4</th>\n",
       "      <td>12016</td>\n",
       "      <td>1519110500001200000000</td>\n",
       "      <td>3325436000149</td>\n",
       "      <td>NÃO</td>\n",
       "    </tr>\n",
       "  </tbody>\n",
       "</table>\n",
       "</div>"
      ],
      "text/plain": [
       "   Número Licitação      Código Item Compra CNPJ Participante Flag Vencedor\n",
       "0             12016  1519110500001200000000     8398304000160           NÃO\n",
       "1             12016  1519110500001200000000      323090000151           NÃO\n",
       "2             12016  1519110500001200000000     9019150000111           NÃO\n",
       "3             12016  1519110500001200000000    13146946000102           NÃO\n",
       "4             12016  1519110500001200000000     3325436000149           NÃO"
      ]
     },
     "execution_count": 51,
     "metadata": {},
     "output_type": "execute_result"
    }
   ],
   "source": [
    "data.head()"
   ]
  },
  {
   "cell_type": "code",
   "execution_count": 54,
   "metadata": {
    "scrolled": true
   },
   "outputs": [
    {
     "data": {
      "text/html": [
       "<div>\n",
       "<style>\n",
       "    .dataframe thead tr:only-child th {\n",
       "        text-align: right;\n",
       "    }\n",
       "\n",
       "    .dataframe thead th {\n",
       "        text-align: left;\n",
       "    }\n",
       "\n",
       "    .dataframe tbody tr th {\n",
       "        vertical-align: top;\n",
       "    }\n",
       "</style>\n",
       "<table border=\"1\" class=\"dataframe\">\n",
       "  <thead>\n",
       "    <tr style=\"text-align: right;\">\n",
       "      <th></th>\n",
       "      <th>Número Licitação</th>\n",
       "      <th>Código Item Compra</th>\n",
       "      <th>CNPJ Participante</th>\n",
       "      <th>Flag Vencedor</th>\n",
       "    </tr>\n",
       "  </thead>\n",
       "  <tbody>\n",
       "    <tr>\n",
       "      <th>0</th>\n",
       "      <td>12016</td>\n",
       "      <td>1519110500001200000000</td>\n",
       "      <td>8398304000160</td>\n",
       "      <td>NÃO</td>\n",
       "    </tr>\n",
       "    <tr>\n",
       "      <th>1</th>\n",
       "      <td>12016</td>\n",
       "      <td>1519110500001200000000</td>\n",
       "      <td>323090000151</td>\n",
       "      <td>NÃO</td>\n",
       "    </tr>\n",
       "    <tr>\n",
       "      <th>2</th>\n",
       "      <td>12016</td>\n",
       "      <td>1519110500001200000000</td>\n",
       "      <td>9019150000111</td>\n",
       "      <td>NÃO</td>\n",
       "    </tr>\n",
       "    <tr>\n",
       "      <th>3</th>\n",
       "      <td>12016</td>\n",
       "      <td>1519110500001200000000</td>\n",
       "      <td>13146946000102</td>\n",
       "      <td>NÃO</td>\n",
       "    </tr>\n",
       "    <tr>\n",
       "      <th>4</th>\n",
       "      <td>12016</td>\n",
       "      <td>1519110500001200000000</td>\n",
       "      <td>3325436000149</td>\n",
       "      <td>NÃO</td>\n",
       "    </tr>\n",
       "  </tbody>\n",
       "</table>\n",
       "</div>"
      ],
      "text/plain": [
       "   Número Licitação      Código Item Compra CNPJ Participante Flag Vencedor\n",
       "0             12016  1519110500001200000000     8398304000160           NÃO\n",
       "1             12016  1519110500001200000000      323090000151           NÃO\n",
       "2             12016  1519110500001200000000     9019150000111           NÃO\n",
       "3             12016  1519110500001200000000    13146946000102           NÃO\n",
       "4             12016  1519110500001200000000     3325436000149           NÃO"
      ]
     },
     "execution_count": 54,
     "metadata": {},
     "output_type": "execute_result"
    }
   ],
   "source": [
    "data.replace([\"NÃO\", \"Não\", \"não\"], 0)\n",
    "data.replace([\"SIM\", \"Sim\", \"sim\"], 1)\n",
    "data.head()"
   ]
  },
  {
   "cell_type": "code",
   "execution_count": 55,
   "metadata": {},
   "outputs": [
    {
     "ename": "AttributeError",
     "evalue": "'DataFrame' object has no attribute 'map'",
     "output_type": "error",
     "traceback": [
      "\u001b[1;31m---------------------------------------------------------------------------\u001b[0m",
      "\u001b[1;31mAttributeError\u001b[0m                            Traceback (most recent call last)",
      "\u001b[1;32m<ipython-input-55-bb5267e980ab>\u001b[0m in \u001b[0;36m<module>\u001b[1;34m()\u001b[0m\n\u001b[1;32m----> 1\u001b[1;33m \u001b[0mdata\u001b[0m\u001b[1;33m.\u001b[0m\u001b[0mmap\u001b[0m\u001b[1;33m(\u001b[0m\u001b[1;33m{\u001b[0m\u001b[1;34m'SIM'\u001b[0m\u001b[1;33m:\u001b[0m \u001b[1;36m1\u001b[0m\u001b[1;33m,\u001b[0m \u001b[1;34m'NÃO'\u001b[0m\u001b[1;33m:\u001b[0m \u001b[1;36m0\u001b[0m\u001b[1;33m}\u001b[0m\u001b[1;33m)\u001b[0m\u001b[1;33m\u001b[0m\u001b[0m\n\u001b[0m\u001b[0;32m      2\u001b[0m \u001b[0mdata\u001b[0m\u001b[1;33m.\u001b[0m\u001b[0mhead\u001b[0m\u001b[1;33m(\u001b[0m\u001b[1;33m)\u001b[0m\u001b[1;33m\u001b[0m\u001b[0m\n",
      "\u001b[1;32mC:\\ProgramData\\Anaconda3\\lib\\site-packages\\pandas\\core\\generic.py\u001b[0m in \u001b[0;36m__getattr__\u001b[1;34m(self, name)\u001b[0m\n\u001b[0;32m   3079\u001b[0m             \u001b[1;32mif\u001b[0m \u001b[0mname\u001b[0m \u001b[1;32min\u001b[0m \u001b[0mself\u001b[0m\u001b[1;33m.\u001b[0m\u001b[0m_info_axis\u001b[0m\u001b[1;33m:\u001b[0m\u001b[1;33m\u001b[0m\u001b[0m\n\u001b[0;32m   3080\u001b[0m                 \u001b[1;32mreturn\u001b[0m \u001b[0mself\u001b[0m\u001b[1;33m[\u001b[0m\u001b[0mname\u001b[0m\u001b[1;33m]\u001b[0m\u001b[1;33m\u001b[0m\u001b[0m\n\u001b[1;32m-> 3081\u001b[1;33m             \u001b[1;32mreturn\u001b[0m \u001b[0mobject\u001b[0m\u001b[1;33m.\u001b[0m\u001b[0m__getattribute__\u001b[0m\u001b[1;33m(\u001b[0m\u001b[0mself\u001b[0m\u001b[1;33m,\u001b[0m \u001b[0mname\u001b[0m\u001b[1;33m)\u001b[0m\u001b[1;33m\u001b[0m\u001b[0m\n\u001b[0m\u001b[0;32m   3082\u001b[0m \u001b[1;33m\u001b[0m\u001b[0m\n\u001b[0;32m   3083\u001b[0m     \u001b[1;32mdef\u001b[0m \u001b[0m__setattr__\u001b[0m\u001b[1;33m(\u001b[0m\u001b[0mself\u001b[0m\u001b[1;33m,\u001b[0m \u001b[0mname\u001b[0m\u001b[1;33m,\u001b[0m \u001b[0mvalue\u001b[0m\u001b[1;33m)\u001b[0m\u001b[1;33m:\u001b[0m\u001b[1;33m\u001b[0m\u001b[0m\n",
      "\u001b[1;31mAttributeError\u001b[0m: 'DataFrame' object has no attribute 'map'"
     ]
    }
   ],
   "source": [
    "data.map({'SIM': 1, 'NÃO': 0})\n",
    "data.head()"
   ]
  },
  {
   "cell_type": "code",
   "execution_count": null,
   "metadata": {
    "collapsed": true
   },
   "outputs": [],
   "source": []
  }
 ],
 "metadata": {
  "kernelspec": {
   "display_name": "Python 3",
   "language": "python",
   "name": "python3"
  },
  "language_info": {
   "codemirror_mode": {
    "name": "ipython",
    "version": 3
   },
   "file_extension": ".py",
   "mimetype": "text/x-python",
   "name": "python",
   "nbconvert_exporter": "python",
   "pygments_lexer": "ipython3",
   "version": "3.6.3"
  }
 },
 "nbformat": 4,
 "nbformat_minor": 2
}
