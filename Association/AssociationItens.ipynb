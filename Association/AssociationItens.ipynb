{
 "cells": [
  {
   "cell_type": "code",
   "execution_count": 109,
   "metadata": {},
   "outputs": [],
   "source": [
    "import pandas as pd\n",
    "import sqlalchemy as sqlalchemy\n",
    "engine = create_engine('mysql+pymysql://root@localhost:3306/tcc', echo=False)"
   ]
  },
  {
   "cell_type": "code",
   "execution_count": 115,
   "metadata": {},
   "outputs": [
    {
     "data": {
      "text/html": [
       "<div>\n",
       "<style scoped>\n",
       "    .dataframe tbody tr th:only-of-type {\n",
       "        vertical-align: middle;\n",
       "    }\n",
       "\n",
       "    .dataframe tbody tr th {\n",
       "        vertical-align: top;\n",
       "    }\n",
       "\n",
       "    .dataframe thead th {\n",
       "        text-align: right;\n",
       "    }\n",
       "</style>\n",
       "<table border=\"1\" class=\"dataframe\">\n",
       "  <thead>\n",
       "    <tr style=\"text-align: right;\">\n",
       "      <th></th>\n",
       "      <th>Código UG</th>\n",
       "      <th>Número Licitação</th>\n",
       "      <th>Código Item Compra</th>\n",
       "      <th>CNPJ Participante</th>\n",
       "      <th>Flag Vencedor</th>\n",
       "    </tr>\n",
       "  </thead>\n",
       "  <tbody>\n",
       "    <tr>\n",
       "      <th>0</th>\n",
       "      <td>151911</td>\n",
       "      <td>12016</td>\n",
       "      <td>1519110500001200000000</td>\n",
       "      <td>8398304000160</td>\n",
       "      <td>NÃO</td>\n",
       "    </tr>\n",
       "    <tr>\n",
       "      <th>1</th>\n",
       "      <td>151911</td>\n",
       "      <td>12016</td>\n",
       "      <td>1519110500001200000000</td>\n",
       "      <td>323090000151</td>\n",
       "      <td>NÃO</td>\n",
       "    </tr>\n",
       "    <tr>\n",
       "      <th>2</th>\n",
       "      <td>151911</td>\n",
       "      <td>12016</td>\n",
       "      <td>1519110500001200000000</td>\n",
       "      <td>9019150000111</td>\n",
       "      <td>NÃO</td>\n",
       "    </tr>\n",
       "    <tr>\n",
       "      <th>3</th>\n",
       "      <td>151911</td>\n",
       "      <td>12016</td>\n",
       "      <td>1519110500001200000000</td>\n",
       "      <td>13146946000102</td>\n",
       "      <td>NÃO</td>\n",
       "    </tr>\n",
       "    <tr>\n",
       "      <th>4</th>\n",
       "      <td>151911</td>\n",
       "      <td>12016</td>\n",
       "      <td>1519110500001200000000</td>\n",
       "      <td>3325436000149</td>\n",
       "      <td>NÃO</td>\n",
       "    </tr>\n",
       "  </tbody>\n",
       "</table>\n",
       "</div>"
      ],
      "text/plain": [
       "   Código UG  Número Licitação      Código Item Compra CNPJ Participante  \\\n",
       "0     151911             12016  1519110500001200000000     8398304000160   \n",
       "1     151911             12016  1519110500001200000000      323090000151   \n",
       "2     151911             12016  1519110500001200000000     9019150000111   \n",
       "3     151911             12016  1519110500001200000000    13146946000102   \n",
       "4     151911             12016  1519110500001200000000     3325436000149   \n",
       "\n",
       "  Flag Vencedor  \n",
       "0           NÃO  \n",
       "1           NÃO  \n",
       "2           NÃO  \n",
       "3           NÃO  \n",
       "4           NÃO  "
      ]
     },
     "execution_count": 115,
     "metadata": {},
     "output_type": "execute_result"
    }
   ],
   "source": [
    "data = pd.read_csv(\"201801_ParticipantesLicitacao.csv\", sep=\";\", encoding=\"latin-1\", low_memory=False)\n",
    "data.drop([\"Nome Órgão\", \"Código Órgão\", \"Nome UG\", \"Descrição Item Compra\", \"Nome Participante\"], axis=1, inplace=True)\n",
    "data.sort_values(['Código UG', 'Número Licitação', 'Código Item Compra', 'CNPJ Participante'])\n",
    "data.head()"
   ]
  },
  {
   "cell_type": "code",
   "execution_count": 111,
   "metadata": {},
   "outputs": [
    {
     "name": "stdout",
     "output_type": "stream",
     "text": [
      "1093\n",
      "3143\n",
      "476\n",
      "15473\n"
     ]
    }
   ],
   "source": [
    "ug = data['Código UG'].drop_duplicates()\n",
    "itens = data['Código Item Compra'].drop_duplicates()\n",
    "licitacoes = data['Número Licitação'].drop_duplicates()\n",
    "participantes = data['CNPJ Participante'].drop_duplicates()\n",
    "print(len(ug))\n",
    "print(len(itens))\n",
    "print(len(licitacoes))\n",
    "print(len(participantes))"
   ]
  },
  {
   "cell_type": "code",
   "execution_count": 112,
   "metadata": {},
   "outputs": [],
   "source": [
    "#dtype={'CNPJ Participante': sqlalchemy.types.BigInteger}\n",
    "\n",
    "ug.to_sql('ug', con=engine, index=False, if_exists='append')\n",
    "itens.to_sql('item', con=engine, index=False, if_exists='append')\n",
    "licitacoes.to_sql('licitacao', con=engine, index=False, if_exists='append')\n",
    "participantes.to_sql('participante', con=engine, index=False, if_exists='append')"
   ]
  },
  {
   "cell_type": "code",
   "execution_count": 72,
   "metadata": {},
   "outputs": [
    {
     "data": {
      "text/plain": [
       "476"
      ]
     },
     "execution_count": 72,
     "metadata": {},
     "output_type": "execute_result"
    }
   ],
   "source": [
    "#licitacoes\n",
    "dataL = []\n",
    "\n",
    "for licitacao in licitacoes:\n",
    "    dataL.append(data.loc[data['Número Licitação'] == licitacao])\n",
    "\n",
    "#dataL.count()\n",
    "len(dataL)"
   ]
  },
  {
   "cell_type": "code",
   "execution_count": null,
   "metadata": {},
   "outputs": [],
   "source": []
  }
 ],
 "metadata": {
  "kernelspec": {
   "display_name": "Python 3",
   "language": "python",
   "name": "python3"
  },
  "language_info": {
   "codemirror_mode": {
    "name": "ipython",
    "version": 3
   },
   "file_extension": ".py",
   "mimetype": "text/x-python",
   "name": "python",
   "nbconvert_exporter": "python",
   "pygments_lexer": "ipython3",
   "version": "3.7.0"
  }
 },
 "nbformat": 4,
 "nbformat_minor": 2
}
