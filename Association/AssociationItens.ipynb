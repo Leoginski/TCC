{
 "cells": [
  {
   "cell_type": "code",
   "execution_count": 46,
   "metadata": {},
   "outputs": [],
   "source": [
    "import pandas as pd"
   ]
  },
  {
   "cell_type": "code",
   "execution_count": 47,
   "metadata": {},
   "outputs": [],
   "source": [
    "data = pd.read_csv(\"201801_ParticipantesLicitacao.csv\", sep=\";\", encoding=\"latin-1\", low_memory=False)"
   ]
  },
  {
   "cell_type": "code",
   "execution_count": 48,
   "metadata": {},
   "outputs": [],
   "source": [
    "data.drop([\"Nome Órgão\", \"Código Órgão\", \"Código UG\", \"Nome UG\", \"Descrição Item Compra\", \"Nome Participante\"], axis=1, inplace=True)"
   ]
  },
  {
   "cell_type": "code",
   "execution_count": 49,
   "metadata": {},
   "outputs": [
    {
     "data": {
      "text/html": [
       "<div>\n",
       "<style scoped>\n",
       "    .dataframe tbody tr th:only-of-type {\n",
       "        vertical-align: middle;\n",
       "    }\n",
       "\n",
       "    .dataframe tbody tr th {\n",
       "        vertical-align: top;\n",
       "    }\n",
       "\n",
       "    .dataframe thead th {\n",
       "        text-align: right;\n",
       "    }\n",
       "</style>\n",
       "<table border=\"1\" class=\"dataframe\">\n",
       "  <thead>\n",
       "    <tr style=\"text-align: right;\">\n",
       "      <th></th>\n",
       "      <th>Número Licitação</th>\n",
       "      <th>Código Item Compra</th>\n",
       "      <th>CNPJ Participante</th>\n",
       "      <th>Flag Vencedor</th>\n",
       "    </tr>\n",
       "  </thead>\n",
       "  <tbody>\n",
       "    <tr>\n",
       "      <th>0</th>\n",
       "      <td>12016</td>\n",
       "      <td>1519110500001200000000</td>\n",
       "      <td>8398304000160</td>\n",
       "      <td>NÃO</td>\n",
       "    </tr>\n",
       "    <tr>\n",
       "      <th>1</th>\n",
       "      <td>12016</td>\n",
       "      <td>1519110500001200000000</td>\n",
       "      <td>323090000151</td>\n",
       "      <td>NÃO</td>\n",
       "    </tr>\n",
       "    <tr>\n",
       "      <th>2</th>\n",
       "      <td>12016</td>\n",
       "      <td>1519110500001200000000</td>\n",
       "      <td>9019150000111</td>\n",
       "      <td>NÃO</td>\n",
       "    </tr>\n",
       "    <tr>\n",
       "      <th>3</th>\n",
       "      <td>12016</td>\n",
       "      <td>1519110500001200000000</td>\n",
       "      <td>13146946000102</td>\n",
       "      <td>NÃO</td>\n",
       "    </tr>\n",
       "    <tr>\n",
       "      <th>4</th>\n",
       "      <td>12016</td>\n",
       "      <td>1519110500001200000000</td>\n",
       "      <td>3325436000149</td>\n",
       "      <td>NÃO</td>\n",
       "    </tr>\n",
       "  </tbody>\n",
       "</table>\n",
       "</div>"
      ],
      "text/plain": [
       "   Número Licitação      Código Item Compra CNPJ Participante Flag Vencedor\n",
       "0             12016  1519110500001200000000     8398304000160           NÃO\n",
       "1             12016  1519110500001200000000      323090000151           NÃO\n",
       "2             12016  1519110500001200000000     9019150000111           NÃO\n",
       "3             12016  1519110500001200000000    13146946000102           NÃO\n",
       "4             12016  1519110500001200000000     3325436000149           NÃO"
      ]
     },
     "execution_count": 49,
     "metadata": {},
     "output_type": "execute_result"
    }
   ],
   "source": [
    "data.head()"
   ]
  },
  {
   "cell_type": "code",
   "execution_count": 71,
   "metadata": {},
   "outputs": [
    {
     "data": {
      "text/plain": [
       "476"
      ]
     },
     "execution_count": 71,
     "metadata": {},
     "output_type": "execute_result"
    }
   ],
   "source": [
    "# sort the dataframe\n",
    "data.sort_values(['Número Licitação', 'Código Item Compra'])\n",
    "# set the index\n",
    "#data.set_index(keys=['Número Licitação'], drop=False,inplace=True)\n",
    "licitacoes = data['Número Licitação'].unique().tolist()\n",
    "len(licitacoes)"
   ]
  },
  {
   "cell_type": "code",
   "execution_count": 72,
   "metadata": {},
   "outputs": [
    {
     "data": {
      "text/plain": [
       "476"
      ]
     },
     "execution_count": 72,
     "metadata": {},
     "output_type": "execute_result"
    }
   ],
   "source": [
    "#licitacoes\n",
    "dataL = []\n",
    "\n",
    "for licitacao in licitacoes:\n",
    "    dataL.append(data.loc[data['Número Licitação'] == licitacao])\n",
    "\n",
    "#dataL.count()\n",
    "len(dataL)"
   ]
  },
  {
   "cell_type": "code",
   "execution_count": 73,
   "metadata": {},
   "outputs": [],
   "source": [
    "#dataL.groupby(['Código Item Compra']).size()"
   ]
  },
  {
   "cell_type": "code",
   "execution_count": 74,
   "metadata": {},
   "outputs": [],
   "source": [
    "#dataL.groupby(['CNPJ Participante']).size()"
   ]
  },
  {
   "cell_type": "code",
   "execution_count": null,
   "metadata": {},
   "outputs": [],
   "source": []
  }
 ],
 "metadata": {
  "kernelspec": {
   "display_name": "Python 3",
   "language": "python",
   "name": "python3"
  },
  "language_info": {
   "codemirror_mode": {
    "name": "ipython",
    "version": 3
   },
   "file_extension": ".py",
   "mimetype": "text/x-python",
   "name": "python",
   "nbconvert_exporter": "python",
   "pygments_lexer": "ipython3",
   "version": "3.6.5"
  }
 },
 "nbformat": 4,
 "nbformat_minor": 2
}
