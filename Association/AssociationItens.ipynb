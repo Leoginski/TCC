{
 "cells": [
  {
   "cell_type": "code",
   "execution_count": 58,
   "metadata": {
    "collapsed": true
   },
   "outputs": [],
   "source": [
    "import pandas as pd\n",
    "data = pd.read_csv(\"201801_ParticipantesLicitacao.csv\", sep=\";\", encoding=\"latin-1\", low_memory=False)\n",
    "data.drop([\"Nome Órgão\", \"Código Órgão\", \"Nome UG\", \"Descrição Item Compra\", \"Nome Participante\"], axis=1, inplace=True)"
   ]
  },
  {
   "cell_type": "code",
   "execution_count": 64,
   "metadata": {},
   "outputs": [
    {
     "name": "stdout",
     "output_type": "stream",
     "text": [
      "56972\n"
     ]
    },
    {
     "data": {
      "text/html": [
       "<div>\n",
       "<style>\n",
       "    .dataframe thead tr:only-child th {\n",
       "        text-align: right;\n",
       "    }\n",
       "\n",
       "    .dataframe thead th {\n",
       "        text-align: left;\n",
       "    }\n",
       "\n",
       "    .dataframe tbody tr th {\n",
       "        vertical-align: top;\n",
       "    }\n",
       "</style>\n",
       "<table border=\"1\" class=\"dataframe\">\n",
       "  <thead>\n",
       "    <tr style=\"text-align: right;\">\n",
       "      <th></th>\n",
       "      <th>Código UG</th>\n",
       "      <th>Número Licitação</th>\n",
       "      <th>Código Item Compra</th>\n",
       "      <th>CNPJ Participante</th>\n",
       "      <th>Flag Vencedor</th>\n",
       "    </tr>\n",
       "  </thead>\n",
       "  <tbody>\n",
       "    <tr>\n",
       "      <th>0</th>\n",
       "      <td>151911</td>\n",
       "      <td>12016</td>\n",
       "      <td>1519110500001200000000</td>\n",
       "      <td>8398304000160</td>\n",
       "      <td>NÃO</td>\n",
       "    </tr>\n",
       "    <tr>\n",
       "      <th>1</th>\n",
       "      <td>151911</td>\n",
       "      <td>12016</td>\n",
       "      <td>1519110500001200000000</td>\n",
       "      <td>323090000151</td>\n",
       "      <td>NÃO</td>\n",
       "    </tr>\n",
       "    <tr>\n",
       "      <th>2</th>\n",
       "      <td>151911</td>\n",
       "      <td>12016</td>\n",
       "      <td>1519110500001200000000</td>\n",
       "      <td>9019150000111</td>\n",
       "      <td>NÃO</td>\n",
       "    </tr>\n",
       "    <tr>\n",
       "      <th>3</th>\n",
       "      <td>151911</td>\n",
       "      <td>12016</td>\n",
       "      <td>1519110500001200000000</td>\n",
       "      <td>13146946000102</td>\n",
       "      <td>NÃO</td>\n",
       "    </tr>\n",
       "    <tr>\n",
       "      <th>4</th>\n",
       "      <td>151911</td>\n",
       "      <td>12016</td>\n",
       "      <td>1519110500001200000000</td>\n",
       "      <td>3325436000149</td>\n",
       "      <td>NÃO</td>\n",
       "    </tr>\n",
       "  </tbody>\n",
       "</table>\n",
       "</div>"
      ],
      "text/plain": [
       "   Código UG  Número Licitação      Código Item Compra CNPJ Participante  \\\n",
       "0     151911             12016  1519110500001200000000     8398304000160   \n",
       "1     151911             12016  1519110500001200000000      323090000151   \n",
       "2     151911             12016  1519110500001200000000     9019150000111   \n",
       "3     151911             12016  1519110500001200000000    13146946000102   \n",
       "4     151911             12016  1519110500001200000000     3325436000149   \n",
       "\n",
       "  Flag Vencedor  \n",
       "0           NÃO  \n",
       "1           NÃO  \n",
       "2           NÃO  \n",
       "3           NÃO  \n",
       "4           NÃO  "
      ]
     },
     "execution_count": 64,
     "metadata": {},
     "output_type": "execute_result"
    }
   ],
   "source": [
    "#data.sort_values(['Número Licitação', 'Código Item Compra', 'Código UG'])\n",
    "data = data.drop_duplicates()\n",
    "print(len(dt))\n",
    "data.head()\n"
   ]
  },
  {
   "cell_type": "code",
   "execution_count": 63,
   "metadata": {},
   "outputs": [
    {
     "name": "stdout",
     "output_type": "stream",
     "text": [
      "1093\n",
      "15473\n",
      "3143\n",
      "476\n"
     ]
    }
   ],
   "source": [
    "ug = data['Código UG'].unique().tolist()\n",
    "cnpj = data['CNPJ Participante'].unique().tolist()\n",
    "item = data['Código Item Compra'].unique().tolist()\n",
    "licitacao = data['Número Licitação'].unique().tolist()\n",
    "\n",
    "print(len(ug))\n",
    "print(len(cnpj))\n",
    "print(len(item))\n",
    "print(len(licitacao))"
   ]
  },
  {
   "cell_type": "code",
   "execution_count": 56,
   "metadata": {},
   "outputs": [
    {
     "data": {
      "text/plain": [
       "56972"
      ]
     },
     "execution_count": 56,
     "metadata": {},
     "output_type": "execute_result"
    }
   ],
   "source": [
    "dt = data.loc[data['Flag Vencedor'] == 'SIM']\n",
    "len(dt)"
   ]
  },
  {
   "cell_type": "code",
   "execution_count": null,
   "metadata": {
    "collapsed": true
   },
   "outputs": [],
   "source": []
  }
 ],
 "metadata": {
  "kernelspec": {
   "display_name": "Python 3",
   "language": "python",
   "name": "python3"
  },
  "language_info": {
   "codemirror_mode": {
    "name": "ipython",
    "version": 3
   },
   "file_extension": ".py",
   "mimetype": "text/x-python",
   "name": "python",
   "nbconvert_exporter": "python",
   "pygments_lexer": "ipython3",
   "version": "3.6.3"
  }
 },
 "nbformat": 4,
 "nbformat_minor": 2
}
