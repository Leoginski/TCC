{
 "cells": [
  {
   "cell_type": "markdown",
   "metadata": {},
   "source": [
    "**Downloading Data**"
   ]
  },
  {
   "cell_type": "markdown",
   "metadata": {},
   "source": [
    "_Importando bibliotecas_"
   ]
  },
  {
   "cell_type": "code",
   "execution_count": 3,
   "metadata": {},
   "outputs": [],
   "source": [
    "import datetime\n",
    "import requests\n",
    "import zipfile\n",
    "import io"
   ]
  },
  {
   "cell_type": "markdown",
   "metadata": {},
   "source": [
    "_Variáveis essenciais_"
   ]
  },
  {
   "cell_type": "code",
   "execution_count": 4,
   "metadata": {},
   "outputs": [],
   "source": [
    "fail_urls = []\n",
    "save_path = '../DataSet/'\n",
    "link = 'http://www.portaltransparencia.gov.br/download-de-dados/licitacoes/'"
   ]
  },
  {
   "cell_type": "markdown",
   "metadata": {},
   "source": [
    "_Preenche lista de URL's_"
   ]
  },
  {
   "cell_type": "code",
   "execution_count": 5,
   "metadata": {},
   "outputs": [],
   "source": [
    "def getUrls():\n",
    "    urls = []\n",
    "    for i in range(2013, 2019):\n",
    "        for j in range(1, 13):\n",
    "            urls.append(link + str(i) + str(format(j, '02')))\n",
    "    return urls"
   ]
  },
  {
   "cell_type": "markdown",
   "metadata": {},
   "source": [
    "_Realiza Requisição_"
   ]
  },
  {
   "cell_type": "code",
   "execution_count": 6,
   "metadata": {},
   "outputs": [],
   "source": [
    "def doRequest(url):\n",
    "    print('Requesting: ' + url)\n",
    "    r = requests.get(url)\n",
    "\n",
    "    if r.status_code != 200:\n",
    "        print('Failed!')\n",
    "        fail_urls.append(\"Status: \" + r.status_code + \" URL: \" + url)\n",
    "\n",
    "    r.encoding = 'utf-8'\n",
    "    return r.content"
   ]
  },
  {
   "cell_type": "markdown",
   "metadata": {},
   "source": [
    "_Salva e Extrai o response_"
   ]
  },
  {
   "cell_type": "code",
   "execution_count": 7,
   "metadata": {},
   "outputs": [],
   "source": [
    "def saveResponse(response):\n",
    "    if response:\n",
    "        print(\"Success!\")\n",
    "        z = zipfile.ZipFile(io.BytesIO(response))\n",
    "        z.extractall(save_path)"
   ]
  },
  {
   "cell_type": "markdown",
   "metadata": {},
   "source": [
    "_Salva falhas no Log_"
   ]
  },
  {
   "cell_type": "code",
   "execution_count": 8,
   "metadata": {},
   "outputs": [],
   "source": [
    "def saveFail():\n",
    "    f = open(\"fail_urls.txt\", \"w+\")\n",
    "    f.write(\"Data da Execucao: \" + datetime.datetime.now().strftime('%d/%m/%Y %H:%M') + \"\\r\\n\")\n",
    "\n",
    "    for url in fail_urls:\n",
    "        f.write(url + \"\\r\\n\")\n",
    "\n",
    "    f.close()"
   ]
  },
  {
   "cell_type": "markdown",
   "metadata": {},
   "source": [
    "_Chamada dos Métodos_"
   ]
  },
  {
   "cell_type": "code",
   "execution_count": 9,
   "metadata": {},
   "outputs": [],
   "source": [
    "def main():\n",
    "    for url in getUrls():\n",
    "        response = doRequest(url)\n",
    "        saveResponse(response)\n",
    "\n",
    "    if fail_urls:\n",
    "        saveFail()"
   ]
  },
  {
   "cell_type": "markdown",
   "metadata": {},
   "source": [
    "**Execute a chamada do main()**"
   ]
  },
  {
   "cell_type": "code",
   "execution_count": null,
   "metadata": {},
   "outputs": [],
   "source": [
    "main()"
   ]
  }
 ],
 "metadata": {
  "kernelspec": {
   "display_name": "Python 3",
   "language": "python",
   "name": "python3"
  },
  "language_info": {
   "codemirror_mode": {
    "name": "ipython",
    "version": 3
   },
   "file_extension": ".py",
   "mimetype": "text/x-python",
   "name": "python",
   "nbconvert_exporter": "python",
   "pygments_lexer": "ipython3",
   "version": "3.6.5"
  }
 },
 "nbformat": 4,
 "nbformat_minor": 2
}
