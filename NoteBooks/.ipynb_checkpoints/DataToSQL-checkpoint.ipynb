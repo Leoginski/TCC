{
 "cells": [
  {
   "cell_type": "code",
   "execution_count": 1,
   "metadata": {},
   "outputs": [
    {
     "data": {
      "text/plain": [
       "<sqlalchemy.engine.base.Connection at 0x1c1a65b5978>"
      ]
     },
     "execution_count": 1,
     "metadata": {},
     "output_type": "execute_result"
    }
   ],
   "source": [
    "import pandas as pd\n",
    "import sqlalchemy\n",
    "import pyodbc\n",
    "import os\n",
    "\n",
    "engine = sqlalchemy.create_engine(\"mssql+pyodbc://(LocalDB)\\localhost/tcc?trusted_connection=yes&driver=ODBC+Driver+17+for+SQL+Server\")\n",
    "engine.connect()"
   ]
  },
  {
   "cell_type": "code",
   "execution_count": 21,
   "metadata": {},
   "outputs": [],
   "source": [
    "fail_files = []\n",
    "\n",
    "item = 0\n",
    "licitacao = 0\n",
    "participante = 0\n",
    "\n",
    "try:\n",
    "    for filename in os.listdir(\"../DataSet\"):\n",
    "        df = pd.read_csv('../DataSet/' + filename, low_memory=False, sep=';', encoding='latin-1')\n",
    "        if \"Item\" in filename:        \n",
    "            item = item + len(df)\n",
    "            df.to_sql(\"Itens\", engine, if_exists='append', index=False)\n",
    "        elif \"Participantes\" in filename:\n",
    "            participante = participante + len(df)\n",
    "            df.to_sql(\"Participantes\", engine, if_exists='append', index=False)\n",
    "        else:\n",
    "            licitacao = licitacao + len(df)\n",
    "            df.to_sql(\"Licitacoes\", engine, if_exists='append', index=False)        \n",
    "except:\n",
    "    fail_files.append(filename)\n",
    "\n",
    "f = open(\"fail_files.txt\", \"w+\")\n",
    "\n",
    "f.write(\"Fails:\\r\\n\")\n",
    "for file in fail_files:\n",
    "    f.write(file + \"\\r\\n\")\n",
    "\n",
    "f.write(\"Item => \" + str(item) + \"\\r\\n\")    \n",
    "f.write(\"Licitacao => \" + str(licitacao) + \"\\r\\n\")    \n",
    "f.write(\"Participante => \" + str(participante) + \"\\r\\n\")\n",
    "\n",
    "f.close()"
   ]
  },
  {
   "cell_type": "code",
   "execution_count": null,
   "metadata": {},
   "outputs": [],
   "source": [
    "engine.dispose()"
   ]
  }
 ],
 "metadata": {
  "kernelspec": {
   "display_name": "Python 3",
   "language": "python",
   "name": "python3"
  },
  "language_info": {
   "codemirror_mode": {
    "name": "ipython",
    "version": 3
   },
   "file_extension": ".py",
   "mimetype": "text/x-python",
   "name": "python",
   "nbconvert_exporter": "python",
   "pygments_lexer": "ipython3",
   "version": "3.7.3"
  }
 },
 "nbformat": 4,
 "nbformat_minor": 2
}
